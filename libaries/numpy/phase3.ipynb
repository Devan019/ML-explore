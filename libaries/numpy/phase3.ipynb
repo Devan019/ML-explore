{
 "cells": [
  {
   "cell_type": "code",
   "execution_count": 2,
   "id": "fdd39c4f",
   "metadata": {},
   "outputs": [],
   "source": [
    "import numpy as np\n",
    "import matplotlib.pyplot as plt"
   ]
  },
  {
   "cell_type": "markdown",
   "id": "728999c6",
   "metadata": {},
   "source": [
    "## Let's start with datasets - 2d array"
   ]
  },
  {
   "cell_type": "code",
   "execution_count": 16,
   "id": "7dd79949",
   "metadata": {},
   "outputs": [
    {
     "name": "stdout",
     "output_type": "stream",
     "text": [
      "==== Zomato sales analysis ==== \n"
     ]
    }
   ],
   "source": [
    "# Data structure: [\"product or name\", restaurant_id, 2021, 2022, 2023, 2024]\n",
    "sales_data = np.array([\n",
    "    [  1, 150000, 180000, 220000, 250000],  # Paradise Biryani\n",
    "    [  2, 120000, 140000, 160000, 190000],  # Beijing Bites\n",
    "    [  3, 200000, 230000, 260000, 300000],  # Pizza Hub\n",
    "    [   4, 180000, 10000, 240000, 270000],  # Burger Point\n",
    "    [   5, 160000, 185000, 205000, 230000]   # Chai Point\n",
    "])\n",
    "\n",
    "prodcuts = [\"Paradise Biryani\" , \"Beijing Bites\" , \"Pizza Hub\", \"Burger Point\", \"Chai Point\"]\n",
    "\n",
    "print(\"==== Zomato sales analysis ==== \")"
   ]
  },
  {
   "cell_type": "markdown",
   "id": "32ab86f0",
   "metadata": {},
   "source": [
    "## operation on this"
   ]
  },
  {
   "cell_type": "markdown",
   "id": "064dcbd4",
   "metadata": {},
   "source": [
    "shape"
   ]
  },
  {
   "cell_type": "code",
   "execution_count": 10,
   "id": "7e3c2444",
   "metadata": {},
   "outputs": [
    {
     "name": "stdout",
     "output_type": "stream",
     "text": [
      "[[     1 150000 180000 220000 250000]\n",
      " [     2 120000 140000 160000 190000]\n",
      " [     3 200000 230000 260000 300000]\n",
      " [     4 180000 210000 240000 270000]\n",
      " [     5 160000 185000 205000 230000]]\n",
      "(5, 5)\n"
     ]
    }
   ],
   "source": [
    "print(sales_data)\n",
    "shape = np.shape(sales_data)\n",
    "print(shape )"
   ]
  },
  {
   "cell_type": "markdown",
   "id": "f2df8539",
   "metadata": {},
   "source": [
    "### total sales per year"
   ]
  },
  {
   "cell_type": "code",
   "execution_count": null,
   "id": "1e66fca9",
   "metadata": {},
   "outputs": [
    {
     "name": "stdout",
     "output_type": "stream",
     "text": [
      "[ 810000  745000 1085000 1240000]\n"
     ]
    },
    {
     "data": {
      "image/png": "[encoded data removed]",
      "text/plain": [
       "<Figure size 600x600 with 1 Axes>"
      ]
     },
     "metadata": {},
     "output_type": "display_data"
    }
   ],
   "source": [
    "#get per year sale -  \n",
    "year_wise = np.sum(sales_data [:,1: ] , axis=0) #skip first col - axis=0 => col wise\n",
    "print(year_wise)\n",
    "\n",
    "#graph of this\n",
    "plt.figure( figsize= (6,6))\n",
    "plt.plot(year_wise)\n",
    "plt.xlabel(\"year\")\n",
    "plt.ylabel(\"sales\")\n",
    "plt.title(\"Year-wise Sales\")\n",
    "plt.grid(True)\n",
    "plt.show()"
   ]
  },
  {
   "cell_type": "markdown",
   "id": "2c84042a",
   "metadata": {},
   "source": [
    "### Minimum sales per restaurant"
   ]
  },
  {
   "cell_type": "code",
   "execution_count": null,
   "id": "76ddcac0",
   "metadata": {},
   "outputs": [
    {
     "name": "stdout",
     "output_type": "stream",
     "text": [
      "[150000 120000 200000  10000 160000]\n"
     ]
    }
   ],
   "source": [
    "min_sales_per_rest = np.min(sales_data [:,1:] , axis=1 ) # axis = 1 , row wise\n",
    "print(min_sales_per_rest)"
   ]
  },
  {
   "cell_type": "markdown",
   "id": "1460fbaa",
   "metadata": {},
   "source": [
    "### Maximum sales per year"
   ]
  },
  {
   "cell_type": "code",
   "execution_count": null,
   "id": "acd3dc02",
   "metadata": {},
   "outputs": [
    {
     "name": "stdout",
     "output_type": "stream",
     "text": [
      "\n",
      " max sales  [200000 230000 260000 300000]\n",
      "\n",
      " eles   [2 2 2 2]\n"
     ]
    }
   ],
   "source": [
    "max_sales = np.max(sales_data[:, 1:], axis=0)\n",
    "eles = np.argmax(sales_data[:,1:], axis=0  )\n",
    "print(\"\\n max sales \", max_sales)\n",
    "print(\"\\n eles  \", eles) #index\n"
   ]
  },
  {
   "cell_type": "markdown",
   "id": "0e8c1916",
   "metadata": {},
   "source": [
    "### Average sales per restautant"
   ]
  },
  {
   "cell_type": "code",
   "execution_count": 34,
   "id": "bf38b7d9",
   "metadata": {},
   "outputs": [
    {
     "name": "stdout",
     "output_type": "stream",
     "text": [
      "[200000. 152500. 247500. 175000. 195000.]\n"
     ]
    }
   ],
   "source": [
    "avgs = np.average(sales_data[:, 1:], axis=1)\n",
    "print(avgs)"
   ]
  },
  {
   "cell_type": "markdown",
   "id": "d15c91cc",
   "metadata": {},
   "source": [
    "### cumtiuve sum "
   ]
  },
  {
   "cell_type": "code",
   "execution_count": 35,
   "id": "9a059960",
   "metadata": {},
   "outputs": [
    {
     "name": "stdout",
     "output_type": "stream",
     "text": [
      "[[150000 330000 550000 800000]\n",
      " [120000 260000 420000 610000]\n",
      " [200000 430000 690000 990000]\n",
      " [180000 190000 430000 700000]\n",
      " [160000 345000 550000 780000]]\n"
     ]
    }
   ],
   "source": [
    "cs = np.cumsum(sales_data [:, 1:] , axis=1)\n",
    "print(cs)"
   ]
  },
  {
   "cell_type": "markdown",
   "id": "bbc878d1",
   "metadata": {},
   "source": [
    "### monthly wise avg"
   ]
  },
  {
   "cell_type": "code",
   "execution_count": 38,
   "id": "86375249",
   "metadata": {},
   "outputs": [
    {
     "name": "stdout",
     "output_type": "stream",
     "text": [
      "[[12500.         15000.         18333.33333333 20833.33333333]\n",
      " [10000.         11666.66666667 13333.33333333 15833.33333333]\n",
      " [16666.66666667 19166.66666667 21666.66666667 25000.        ]\n",
      " [15000.           833.33333333 20000.         22500.        ]\n",
      " [13333.33333333 15416.66666667 17083.33333333 19166.66666667]]\n"
     ]
    }
   ],
   "source": [
    "mon_avg = sales_data[:, 1:] / 12\n",
    "print(mon_avg)"
   ]
  }
 ],
 "metadata": {
  "kernelspec": {
   "display_name": "ML",
   "language": "python",
   "name": "python3"
  },
  "language_info": {
   "codemirror_mode": {
    "name": "ipython",
    "version": 3
   },
   "file_extension": ".py",
   "mimetype": "text/x-python",
   "name": "python",
   "nbconvert_exporter": "python",
   "pygments_lexer": "ipython3",
   "version": "3.10.7"
  }
 },
 "nbformat": 4,
 "nbformat_minor": 5
}

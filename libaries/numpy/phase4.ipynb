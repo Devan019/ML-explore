{
 "cells": [
  {
   "cell_type": "code",
   "execution_count": 2,
   "id": "0ec77a1c",
   "metadata": {},
   "outputs": [],
   "source": [
    "import numpy as np"
   ]
  },
  {
   "cell_type": "markdown",
   "id": "1ee1f3dc",
   "metadata": {},
   "source": [
    "# Vector operations"
   ]
  },
  {
   "cell_type": "code",
   "execution_count": 3,
   "id": "e7a25671",
   "metadata": {},
   "outputs": [
    {
     "name": "stdout",
     "output_type": "stream",
     "text": [
      "Vector addition:  [ 7  9 11 13 15]\n",
      "\n",
      " Multiplication vector [ 6 14 24 36 50]\n"
     ]
    }
   ],
   "source": [
    "vector1 = np.array([1, 2, 3, 4, 5])\n",
    "vector2 = np.array([6, 7, 8, 9, 10])\n",
    "\n",
    "print(\"Vector addition: \", vector1 + vector2)\n",
    "\n",
    "print(\"\\n Multiplication vector\", vector1 * vector2)"
   ]
  },
  {
   "cell_type": "markdown",
   "id": "69c40969",
   "metadata": {},
   "source": [
    "### dot product and angle"
   ]
  },
  {
   "cell_type": "code",
   "execution_count": 8,
   "id": "64413ccd",
   "metadata": {},
   "outputs": [
    {
     "name": "stdout",
     "output_type": "stream",
     "text": [
      "\n",
      " dot pro  130\n",
      "\n",
      "anlge is in rad  0.26554161733900966\n",
      "\n",
      "anlge is in deg  15.214413958603176\n"
     ]
    }
   ],
   "source": [
    "dot_pro = np.dot(vector1, vector2)\n",
    "print(\"\\n dot pro \", dot_pro)\n",
    "\n",
    "# theta = cos-1(v1.v2 / (|v1|)*(|v2|))\n",
    "theta = np.arccos(dot_pro / (np.linalg.norm(vector1) * np.linalg.norm(vector2)))\n",
    "\n",
    "print(\"\\nanlge is in rad \", theta)\n",
    "print(\"\\nanlge is in deg \", np.degrees(theta))"
   ]
  },
  {
   "cell_type": "code",
   "execution_count": 9,
   "id": "cf4815df",
   "metadata": {},
   "outputs": [
    {
     "name": "stdout",
     "output_type": "stream",
     "text": [
      "Vectorized Upper ['BIRYANI' 'CHINESE' 'PIZZA' 'BURGER' 'CAFE']\n"
     ]
    }
   ],
   "source": [
    "restaurant_types = np.array(['biryani', 'chinese', 'pizza', 'burger', 'cafe'])\n",
    "vectorized_upper = np.vectorize(str.upper)\n",
    "print(\"Vectorized Upper\", vectorized_upper(restaurant_types))"
   ]
  }
 ],
 "metadata": {
  "kernelspec": {
   "display_name": "ML",
   "language": "python",
   "name": "python3"
  },
  "language_info": {
   "codemirror_mode": {
    "name": "ipython",
    "version": 3
   },
   "file_extension": ".py",
   "mimetype": "text/x-python",
   "name": "python",
   "nbconvert_exporter": "python",
   "pygments_lexer": "ipython3",
   "version": "3.10.7"
  }
 },
 "nbformat": 4,
 "nbformat_minor": 5
}

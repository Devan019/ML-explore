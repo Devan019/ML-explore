{
 "cells": [
  {
   "cell_type": "markdown",
   "id": "d4be58bb",
   "metadata": {},
   "source": [
    "comparisons numpy vs list"
   ]
  },
  {
   "cell_type": "code",
   "execution_count": 1,
   "id": "6ab622fe",
   "metadata": {},
   "outputs": [
    {
     "name": "stdout",
     "output_type": "stream",
     "text": [
      "8.086886644363403\n",
      "0.9626209735870361\n"
     ]
    }
   ],
   "source": [
    "import numpy as np\n",
    "import time\n",
    "st = time.time()\n",
    "py_list = [i*2 for i in range(100000000)]\n",
    "end = time.time()\n",
    "print(end-st)\n",
    "\n",
    "st = time.time()\n",
    "np_array = np.arange(100000000)*2\n",
    "end = time.time()\n",
    "print(end-st)"
   ]
  },
  {
   "cell_type": "markdown",
   "id": "bcd31b08",
   "metadata": {},
   "source": [
    "numpy arrays"
   ]
  },
  {
   "cell_type": "code",
   "execution_count": 4,
   "id": "6f75b69c",
   "metadata": {},
   "outputs": [
    {
     "name": "stdout",
     "output_type": "stream",
     "text": [
      "\n",
      "=> [1 2 3 4 5] \n",
      "\n",
      "\n",
      "=> [[ 1 24  5]\n",
      " [ 5  6  8]\n",
      " [ 4  5  2]] \n",
      "\n",
      "\n",
      "=> [[[ 1  4  2]\n",
      "  [ 2  6  5]\n",
      "  [ 5  7  2]]\n",
      "\n",
      " [[10  0  2]\n",
      "  [ 1  4  3]\n",
      "  [ 2  1  3]]]\n"
     ]
    }
   ],
   "source": [
    "#1-d array\n",
    "np_arr_1d = np.array([1,2,3,4,5])\n",
    "\n",
    "#2-d array\n",
    "np_arr_2d = np.array( [ [1,24,5] , [5,6,8] , [4,5,2]] )\n",
    "\n",
    "#tensors\n",
    "tesnsors = np.array( [[[1,4,2] , [2,6,5] , [5,7,2]] , [[10,0,2], [1,4,3], [2,1,3]]] )\n",
    "\n",
    "print(\"\\n=>\", np_arr_1d, \"\\n\\n\\n=>\", np_arr_2d, \"\\n\\n\\n=>\", tesnsors)"
   ]
  },
  {
   "cell_type": "markdown",
   "id": "7ef7e325",
   "metadata": {},
   "source": [
    "speacial matrixs"
   ]
  },
  {
   "cell_type": "code",
   "execution_count": 6,
   "id": "4e2fc6e1",
   "metadata": {},
   "outputs": [
    {
     "name": "stdout",
     "output_type": "stream",
     "text": [
      "\n",
      "=> [[0. 0. 0.]\n",
      " [0. 0. 0.]] \n",
      "\n",
      "\n",
      "=> [[1. 1. 1. 1. 1.]\n",
      " [1. 1. 1. 1. 1.]\n",
      " [1. 1. 1. 1. 1.]] \n",
      "\n",
      "\n",
      "=> [[5 5 5 5 5 5]\n",
      " [5 5 5 5 5 5]\n",
      " [5 5 5 5 5 5]\n",
      " [5 5 5 5 5 5]]\n"
     ]
    }
   ],
   "source": [
    "#zeros \n",
    "zeros = np.zeros((2,3));\n",
    "\n",
    "#ones\n",
    "ones = np.ones((3,5));\n",
    "\n",
    "#const array\n",
    "arr = np.full((4,6), 5);\n",
    "\n",
    "\n",
    "print(\"\\n=>\", zeros, \"\\n\\n\\n=>\", ones, \"\\n\\n\\n=>\", arr)"
   ]
  },
  {
   "cell_type": "markdown",
   "id": "bcaa5f73",
   "metadata": {},
   "source": [
    "random-arrays"
   ]
  },
  {
   "cell_type": "code",
   "execution_count": null,
   "id": "5a139154",
   "metadata": {},
   "outputs": [
    {
     "name": "stdout",
     "output_type": "stream",
     "text": [
      "\n",
      "=> [[1.7389988  4.04018137 6.34724687 7.69549201]\n",
      " [8.95706513 3.55340891 8.6925539  5.37679756]]\n",
      "\n",
      "=> [[9.84787298 3.82832811 7.11639594 1.2887188 ]\n",
      " [0.82521513 0.2966655  1.35597956 7.70222518]]\n",
      "\n",
      "=> [[ 6  7 41 30 43]\n",
      " [41 11 17 22 30]\n",
      " [16 22  9 32 18]]\n"
     ]
    }
   ],
   "source": [
    "random_arr = np.random.random((2,4))*10\n",
    "\n",
    "print(\"\\n=>\", random_arr)\n",
    "\n",
    "random_arr2 = np.random.rand(2,4)*10\n",
    "\n",
    "print(\"\\n=>\", random_arr2)\n",
    "\n",
    "random_arr3 = np.random.randint(5, 50, (3,5)) #dim x,y , (shape)\n",
    "print(\"\\n=>\", random_arr3)\n"
   ]
  },
  {
   "cell_type": "markdown",
   "id": "5913ec35",
   "metadata": {},
   "source": [
    "sequences"
   ]
  },
  {
   "cell_type": "code",
   "execution_count": 11,
   "id": "cc417129",
   "metadata": {},
   "outputs": [
    {
     "name": "stdout",
     "output_type": "stream",
     "text": [
      "\n",
      "=> [20.  22.5 25.  27.5]\n"
     ]
    }
   ],
   "source": [
    "seq = np.arange(20, 30, 2.5)\n",
    "print(\"\\n=>\", seq)"
   ]
  },
  {
   "cell_type": "markdown",
   "id": "9af2768d",
   "metadata": {},
   "source": [
    "Arrays propertices"
   ]
  },
  {
   "cell_type": "code",
   "execution_count": null,
   "id": "c4ad85a5",
   "metadata": {},
   "outputs": [
    {
     "name": "stdout",
     "output_type": "stream",
     "text": [
      "Shape  (2, 3)\n",
      "Dimension  2\n",
      "Size  6\n",
      "DType  int64\n"
     ]
    }
   ],
   "source": [
    "arr = np.array([[1, 2, 3], \n",
    "                [4, 5, 6]])\n",
    "print(\"Shape \", arr.shape) # (2,3)\n",
    "print(\"Dimension \", arr.ndim) # row - 2\n",
    "print(\"Size \", arr.size) # total ele = 2*3 = 6\n",
    "print(\"DType \", arr.dtype) #dt - int\n"
   ]
  },
  {
   "cell_type": "markdown",
   "id": "5c10d738",
   "metadata": {},
   "source": [
    "Array Reshaping"
   ]
  },
  {
   "cell_type": "code",
   "execution_count": null,
   "id": "1d1d79ce",
   "metadata": {},
   "outputs": [
    {
     "name": "stdout",
     "output_type": "stream",
     "text": [
      "Original array  [ 0  1  2  3  4  5  6  7  8  9 10 11]\n",
      "\n",
      " Reshaped array  [[ 0  1  2  3]\n",
      " [ 4  5  6  7]\n",
      " [ 8  9 10 11]]\n",
      "\n",
      " Flattened array  [ 0  1  2  3  4  5  6  7  8  9 10 11]\n",
      "\n",
      " raveled array  [ 0  1  2  3  4  5  6  7  8  9 10 11]\n",
      "\n",
      " raveled array2  [   0 1000    2    3    4    5    6    7    8    9   10   11]  \n",
      "and original  [[   0 1000    2    3]\n",
      " [   4    5    6    7]\n",
      " [   8    9   10   11]]\n",
      "\n",
      " Transposed array  [[   0    4    8]\n",
      " [1000    5    9]\n",
      " [   2    6   10]\n",
      " [   3    7   11]]\n"
     ]
    }
   ],
   "source": [
    "arr = np.arange(12)\n",
    "print(\"Original array \", arr) # 0,1,2,3....,11\n",
    "\n",
    "reshaped = arr.reshape((3, 4)) # convert into 3,4\n",
    "print(\"\\n Reshaped array \", reshaped)\n",
    "\n",
    "flattened = reshaped.flatten() #make 2d to 1d\n",
    "print(\"\\n Flattened array \", flattened)\n",
    "\n",
    "# ravel (returns view, instead of copy)\n",
    "raveled = reshaped.ravel() #make 2d to 1d\n",
    "print(\"\\n raveled array \", raveled)\n",
    "\n",
    "raveled[1] = 1e3 #chnage also orignal like refrence\n",
    "print(\"\\n raveled array2 \", raveled , \" \\nand original \", reshaped)\n",
    "\n",
    "\n",
    "# Transpose\n",
    "transpose = reshaped.T # make transponse :)\n",
    "print(\"\\n Transposed array \", transpose)"
   ]
  }
 ],
 "metadata": {
  "kernelspec": {
   "display_name": "ML",
   "language": "python",
   "name": "python3"
  },
  "language_info": {
   "codemirror_mode": {
    "name": "ipython",
    "version": 3
   },
   "file_extension": ".py",
   "mimetype": "text/x-python",
   "name": "python",
   "nbconvert_exporter": "python",
   "pygments_lexer": "ipython3",
   "version": "3.10.7"
  }
 },
 "nbformat": 4,
 "nbformat_minor": 5
}

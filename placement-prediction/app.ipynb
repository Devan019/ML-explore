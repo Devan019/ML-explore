{
 "cells": [
  {
   "cell_type": "code",
   "execution_count": 5,
   "id": "2e35ab75",
   "metadata": {},
   "outputs": [
    {
     "name": "stdout",
     "output_type": "stream",
     "text": [
      "* Running on local URL:  http://127.0.0.1:7862\n",
      "* To create a public link, set `share=True` in `launch()`.\n"
     ]
    },
    {
     "data": {
      "text/html": [
       "<div><iframe src=\"http://127.0.0.1:7862/\" width=\"100%\" height=\"500\" allow=\"autoplay; camera; microphone; clipboard-read; clipboard-write;\" frameborder=\"0\" allowfullscreen></iframe></div>"
      ],
      "text/plain": [
       "<IPython.core.display.HTML object>"
      ]
     },
     "metadata": {},
     "output_type": "display_data"
    },
    {
     "data": {
      "text/plain": []
     },
     "execution_count": 5,
     "metadata": {},
     "output_type": "execute_result"
    }
   ],
   "source": [
    "import pickle\n",
    "import gradio as gr\n",
    "import numpy as np\n",
    "\n",
    "# Load your saved model\n",
    "with open(\"placement-model.pkl\", \"rb\") as f:\n",
    "    model = pickle.load(f)\n",
    "\n",
    "# Prediction function\n",
    "def predict(iq, cgpa):\n",
    "    data = np.array([[iq, cgpa]])\n",
    "    prediction = model.predict(data)\n",
    "    return prediction\n",
    "# Gradio Interface\n",
    "iface = gr.Interface(\n",
    "    fn=predict,\n",
    "    inputs=[gr.Number(label=\"IQ\"), gr.Number(label=\"CGPA\")],\n",
    "    outputs=gr.Textbox(label=\"Result\"),\n",
    "    title=\"Placement Predictor\",\n",
    "    description=\"Enter IQ and CGPA to check placement chances.\"\n",
    ")\n",
    "\n",
    "iface.launch()\n"
   ]
  }
 ],
 "metadata": {
  "kernelspec": {
   "display_name": "ML",
   "language": "python",
   "name": "python3"
  },
  "language_info": {
   "codemirror_mode": {
    "name": "ipython",
    "version": 3
   },
   "file_extension": ".py",
   "mimetype": "text/x-python",
   "name": "python",
   "nbconvert_exporter": "python",
   "pygments_lexer": "ipython3",
   "version": "3.10.7"
  }
 },
 "nbformat": 4,
 "nbformat_minor": 5
}
